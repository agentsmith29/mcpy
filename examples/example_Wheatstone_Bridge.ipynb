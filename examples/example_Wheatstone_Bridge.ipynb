{
 "cells": [
  {
   "cell_type": "code",
   "execution_count": 4,
   "metadata": {
    "collapsed": true,
    "ExecuteTime": {
     "start_time": "2023-05-14T12:04:35.446371Z",
     "end_time": "2023-05-14T12:04:35.517231Z"
    }
   },
   "outputs": [
    {
     "name": "stdout",
     "output_type": "stream",
     "text": [
      "0.1b\n",
      "1999999\n"
     ]
    }
   ],
   "source": [
    "import os\n",
    "import mcpy as mcpy\n",
    "print(mcpy.version)\n",
    "N = int((1/(1-0.95))*10**5)\n",
    "print(N)"
   ]
  },
  {
   "cell_type": "markdown",
   "source": [
    "# Resistors in the Wheatstone Bridge\n",
    "## Resistors R21, R22, R3\n",
    "### Resistor R21\n",
    "For resistors, it's safe to assume a rectangular distribution, due to the fact that there is no special\n",
    "knowledge about the possible values within the interval. Thus, it's assumed that it is equally\n",
    "probable to lie anywhere within it.\n",
    "\n",
    "According to the corresponding datasheets S102C.pdf [3, p. 1] the resistance tolerance is given\n",
    "by +-0,005"
   ],
   "metadata": {
    "collapsed": false
   }
  },
  {
   "cell_type": "code",
   "execution_count": 5,
   "outputs": [
    {
     "name": "stdout",
     "output_type": "stream",
     "text": [
      "R(1.000E+02, 1.000E+02) uc = 2.887E-03\n"
     ]
    },
    {
     "ename": "UnboundLocalError",
     "evalue": "local variable 'result' referenced before assignment",
     "output_type": "error",
     "traceback": [
      "\u001B[1;31m---------------------------------------------------------------------------\u001B[0m",
      "\u001B[1;31mUnboundLocalError\u001B[0m                         Traceback (most recent call last)",
      "Cell \u001B[1;32mIn[5], line 5\u001B[0m\n\u001B[0;32m      3\u001B[0m R21 \u001B[38;5;241m=\u001B[39m mcpy\u001B[38;5;241m.\u001B[39mRectangular(R21_, delta_a_R21_)\n\u001B[0;32m      4\u001B[0m \u001B[38;5;28mprint\u001B[39m(R21)\n\u001B[1;32m----> 5\u001B[0m \u001B[43mR21\u001B[49m\u001B[38;5;241;43m.\u001B[39;49m\u001B[43mplot\u001B[49m\u001B[43m(\u001B[49m\u001B[43mN\u001B[49m\u001B[43m)\u001B[49m\n",
      "File \u001B[1;32mE:\\flexsensor\\mcpy\\mcpy\\UncertaintyDistributions.py:145\u001B[0m, in \u001B[0;36mUncertainty.plot\u001B[1;34m(self, N)\u001B[0m\n\u001B[0;32m    143\u001B[0m r \u001B[38;5;241m=\u001B[39m \u001B[38;5;28mself\u001B[39m\u001B[38;5;241m.\u001B[39mrand(N)\n\u001B[0;32m    144\u001B[0m plt\u001B[38;5;241m.\u001B[39mtitle(\u001B[38;5;28mself\u001B[39m\u001B[38;5;241m.\u001B[39m\u001B[38;5;18m__class__\u001B[39m\u001B[38;5;241m.\u001B[39m\u001B[38;5;18m__name__\u001B[39m)\n\u001B[1;32m--> 145\u001B[0m \u001B[43mplt\u001B[49m\u001B[38;5;241;43m.\u001B[39;49m\u001B[43mhist\u001B[49m\u001B[43m(\u001B[49m\u001B[43mr\u001B[49m\u001B[43m,\u001B[49m\u001B[43m \u001B[49m\u001B[43mbins\u001B[49m\u001B[38;5;241;43m=\u001B[39;49m\u001B[38;5;241;43m100\u001B[39;49m\u001B[43m)\u001B[49m\n\u001B[0;32m    146\u001B[0m plt\u001B[38;5;241m.\u001B[39mshow()\n",
      "File \u001B[1;32m~\\AppData\\Local\\Programs\\Python\\Python310\\lib\\site-packages\\matplotlib\\pyplot.py:2618\u001B[0m, in \u001B[0;36mhist\u001B[1;34m(x, bins, range, density, weights, cumulative, bottom, histtype, align, orientation, rwidth, log, color, label, stacked, data, **kwargs)\u001B[0m\n\u001B[0;32m   2612\u001B[0m \u001B[38;5;129m@_copy_docstring_and_deprecators\u001B[39m(Axes\u001B[38;5;241m.\u001B[39mhist)\n\u001B[0;32m   2613\u001B[0m \u001B[38;5;28;01mdef\u001B[39;00m \u001B[38;5;21mhist\u001B[39m(\n\u001B[0;32m   2614\u001B[0m         x, bins\u001B[38;5;241m=\u001B[39m\u001B[38;5;28;01mNone\u001B[39;00m, \u001B[38;5;28mrange\u001B[39m\u001B[38;5;241m=\u001B[39m\u001B[38;5;28;01mNone\u001B[39;00m, density\u001B[38;5;241m=\u001B[39m\u001B[38;5;28;01mFalse\u001B[39;00m, weights\u001B[38;5;241m=\u001B[39m\u001B[38;5;28;01mNone\u001B[39;00m,\n\u001B[0;32m   2615\u001B[0m         cumulative\u001B[38;5;241m=\u001B[39m\u001B[38;5;28;01mFalse\u001B[39;00m, bottom\u001B[38;5;241m=\u001B[39m\u001B[38;5;28;01mNone\u001B[39;00m, histtype\u001B[38;5;241m=\u001B[39m\u001B[38;5;124m'\u001B[39m\u001B[38;5;124mbar\u001B[39m\u001B[38;5;124m'\u001B[39m, align\u001B[38;5;241m=\u001B[39m\u001B[38;5;124m'\u001B[39m\u001B[38;5;124mmid\u001B[39m\u001B[38;5;124m'\u001B[39m,\n\u001B[0;32m   2616\u001B[0m         orientation\u001B[38;5;241m=\u001B[39m\u001B[38;5;124m'\u001B[39m\u001B[38;5;124mvertical\u001B[39m\u001B[38;5;124m'\u001B[39m, rwidth\u001B[38;5;241m=\u001B[39m\u001B[38;5;28;01mNone\u001B[39;00m, log\u001B[38;5;241m=\u001B[39m\u001B[38;5;28;01mFalse\u001B[39;00m, color\u001B[38;5;241m=\u001B[39m\u001B[38;5;28;01mNone\u001B[39;00m,\n\u001B[0;32m   2617\u001B[0m         label\u001B[38;5;241m=\u001B[39m\u001B[38;5;28;01mNone\u001B[39;00m, stacked\u001B[38;5;241m=\u001B[39m\u001B[38;5;28;01mFalse\u001B[39;00m, \u001B[38;5;241m*\u001B[39m, data\u001B[38;5;241m=\u001B[39m\u001B[38;5;28;01mNone\u001B[39;00m, \u001B[38;5;241m*\u001B[39m\u001B[38;5;241m*\u001B[39mkwargs):\n\u001B[1;32m-> 2618\u001B[0m     \u001B[38;5;28;01mreturn\u001B[39;00m gca()\u001B[38;5;241m.\u001B[39mhist(\n\u001B[0;32m   2619\u001B[0m         x, bins\u001B[38;5;241m=\u001B[39mbins, \u001B[38;5;28mrange\u001B[39m\u001B[38;5;241m=\u001B[39m\u001B[38;5;28mrange\u001B[39m, density\u001B[38;5;241m=\u001B[39mdensity, weights\u001B[38;5;241m=\u001B[39mweights,\n\u001B[0;32m   2620\u001B[0m         cumulative\u001B[38;5;241m=\u001B[39mcumulative, bottom\u001B[38;5;241m=\u001B[39mbottom, histtype\u001B[38;5;241m=\u001B[39mhisttype,\n\u001B[0;32m   2621\u001B[0m         align\u001B[38;5;241m=\u001B[39malign, orientation\u001B[38;5;241m=\u001B[39morientation, rwidth\u001B[38;5;241m=\u001B[39mrwidth, log\u001B[38;5;241m=\u001B[39mlog,\n\u001B[0;32m   2622\u001B[0m         color\u001B[38;5;241m=\u001B[39mcolor, label\u001B[38;5;241m=\u001B[39mlabel, stacked\u001B[38;5;241m=\u001B[39mstacked,\n\u001B[0;32m   2623\u001B[0m         \u001B[38;5;241m*\u001B[39m\u001B[38;5;241m*\u001B[39m({\u001B[38;5;124m\"\u001B[39m\u001B[38;5;124mdata\u001B[39m\u001B[38;5;124m\"\u001B[39m: data} \u001B[38;5;28;01mif\u001B[39;00m data \u001B[38;5;129;01mis\u001B[39;00m \u001B[38;5;129;01mnot\u001B[39;00m \u001B[38;5;28;01mNone\u001B[39;00m \u001B[38;5;28;01melse\u001B[39;00m {}), \u001B[38;5;241m*\u001B[39m\u001B[38;5;241m*\u001B[39mkwargs)\n",
      "File \u001B[1;32m~\\AppData\\Local\\Programs\\Python\\Python310\\lib\\site-packages\\matplotlib\\__init__.py:1459\u001B[0m, in \u001B[0;36m_preprocess_data.<locals>.inner\u001B[1;34m(ax, data, *args, **kwargs)\u001B[0m\n\u001B[0;32m   1456\u001B[0m \u001B[38;5;129m@functools\u001B[39m\u001B[38;5;241m.\u001B[39mwraps(func)\n\u001B[0;32m   1457\u001B[0m \u001B[38;5;28;01mdef\u001B[39;00m \u001B[38;5;21minner\u001B[39m(ax, \u001B[38;5;241m*\u001B[39margs, data\u001B[38;5;241m=\u001B[39m\u001B[38;5;28;01mNone\u001B[39;00m, \u001B[38;5;241m*\u001B[39m\u001B[38;5;241m*\u001B[39mkwargs):\n\u001B[0;32m   1458\u001B[0m     \u001B[38;5;28;01mif\u001B[39;00m data \u001B[38;5;129;01mis\u001B[39;00m \u001B[38;5;28;01mNone\u001B[39;00m:\n\u001B[1;32m-> 1459\u001B[0m         \u001B[38;5;28;01mreturn\u001B[39;00m func(ax, \u001B[38;5;241m*\u001B[39m\u001B[38;5;28mmap\u001B[39m(sanitize_sequence, args), \u001B[38;5;241m*\u001B[39m\u001B[38;5;241m*\u001B[39mkwargs)\n\u001B[0;32m   1461\u001B[0m     bound \u001B[38;5;241m=\u001B[39m new_sig\u001B[38;5;241m.\u001B[39mbind(ax, \u001B[38;5;241m*\u001B[39margs, \u001B[38;5;241m*\u001B[39m\u001B[38;5;241m*\u001B[39mkwargs)\n\u001B[0;32m   1462\u001B[0m     auto_label \u001B[38;5;241m=\u001B[39m (bound\u001B[38;5;241m.\u001B[39marguments\u001B[38;5;241m.\u001B[39mget(label_namer)\n\u001B[0;32m   1463\u001B[0m                   \u001B[38;5;129;01mor\u001B[39;00m bound\u001B[38;5;241m.\u001B[39mkwargs\u001B[38;5;241m.\u001B[39mget(label_namer))\n",
      "File \u001B[1;32m~\\AppData\\Local\\Programs\\Python\\Python310\\lib\\site-packages\\matplotlib\\axes\\_axes.py:6790\u001B[0m, in \u001B[0;36mAxes.hist\u001B[1;34m(self, x, bins, range, density, weights, cumulative, bottom, histtype, align, orientation, rwidth, log, color, label, stacked, **kwargs)\u001B[0m\n\u001B[0;32m   6786\u001B[0m \u001B[38;5;66;03m# Loop through datasets\u001B[39;00m\n\u001B[0;32m   6787\u001B[0m \u001B[38;5;28;01mfor\u001B[39;00m i \u001B[38;5;129;01min\u001B[39;00m \u001B[38;5;28mrange\u001B[39m(nx):\n\u001B[0;32m   6788\u001B[0m     \u001B[38;5;66;03m# this will automatically overwrite bins,\u001B[39;00m\n\u001B[0;32m   6789\u001B[0m     \u001B[38;5;66;03m# so that each histogram uses the same bins\u001B[39;00m\n\u001B[1;32m-> 6790\u001B[0m     m, bins \u001B[38;5;241m=\u001B[39m np\u001B[38;5;241m.\u001B[39mhistogram(x[i], bins, weights\u001B[38;5;241m=\u001B[39mw[i], \u001B[38;5;241m*\u001B[39m\u001B[38;5;241m*\u001B[39mhist_kwargs)\n\u001B[0;32m   6791\u001B[0m     tops\u001B[38;5;241m.\u001B[39mappend(m)\n\u001B[0;32m   6792\u001B[0m tops \u001B[38;5;241m=\u001B[39m np\u001B[38;5;241m.\u001B[39marray(tops, \u001B[38;5;28mfloat\u001B[39m)  \u001B[38;5;66;03m# causes problems later if it's an int\u001B[39;00m\n",
      "File \u001B[1;32m<__array_function__ internals>:200\u001B[0m, in \u001B[0;36mhistogram\u001B[1;34m(*args, **kwargs)\u001B[0m\n",
      "File \u001B[1;32m~\\AppData\\Local\\Programs\\Python\\Python310\\lib\\site-packages\\numpy\\lib\\histograms.py:780\u001B[0m, in \u001B[0;36mhistogram\u001B[1;34m(a, bins, range, density, weights)\u001B[0m\n\u001B[0;32m    680\u001B[0m \u001B[38;5;250m\u001B[39m\u001B[38;5;124mr\u001B[39m\u001B[38;5;124;03m\"\"\"\u001B[39;00m\n\u001B[0;32m    681\u001B[0m \u001B[38;5;124;03mCompute the histogram of a dataset.\u001B[39;00m\n\u001B[0;32m    682\u001B[0m \n\u001B[1;32m   (...)\u001B[0m\n\u001B[0;32m    776\u001B[0m \n\u001B[0;32m    777\u001B[0m \u001B[38;5;124;03m\"\"\"\u001B[39;00m\n\u001B[0;32m    778\u001B[0m a, weights \u001B[38;5;241m=\u001B[39m _ravel_and_check_weights(a, weights)\n\u001B[1;32m--> 780\u001B[0m bin_edges, uniform_bins \u001B[38;5;241m=\u001B[39m \u001B[43m_get_bin_edges\u001B[49m\u001B[43m(\u001B[49m\u001B[43ma\u001B[49m\u001B[43m,\u001B[49m\u001B[43m \u001B[49m\u001B[43mbins\u001B[49m\u001B[43m,\u001B[49m\u001B[43m \u001B[49m\u001B[38;5;28;43mrange\u001B[39;49m\u001B[43m,\u001B[49m\u001B[43m \u001B[49m\u001B[43mweights\u001B[49m\u001B[43m)\u001B[49m\n\u001B[0;32m    782\u001B[0m \u001B[38;5;66;03m# Histogram is an integer or a float array depending on the weights.\u001B[39;00m\n\u001B[0;32m    783\u001B[0m \u001B[38;5;28;01mif\u001B[39;00m weights \u001B[38;5;129;01mis\u001B[39;00m \u001B[38;5;28;01mNone\u001B[39;00m:\n",
      "File \u001B[1;32m~\\AppData\\Local\\Programs\\Python\\Python310\\lib\\site-packages\\numpy\\lib\\histograms.py:446\u001B[0m, in \u001B[0;36m_get_bin_edges\u001B[1;34m(a, bins, range, weights)\u001B[0m\n\u001B[0;32m    443\u001B[0m         bin_type \u001B[38;5;241m=\u001B[39m np\u001B[38;5;241m.\u001B[39mresult_type(bin_type, \u001B[38;5;28mfloat\u001B[39m)\n\u001B[0;32m    445\u001B[0m     \u001B[38;5;66;03m# bin edges must be computed\u001B[39;00m\n\u001B[1;32m--> 446\u001B[0m     bin_edges \u001B[38;5;241m=\u001B[39m \u001B[43mnp\u001B[49m\u001B[38;5;241;43m.\u001B[39;49m\u001B[43mlinspace\u001B[49m\u001B[43m(\u001B[49m\n\u001B[0;32m    447\u001B[0m \u001B[43m        \u001B[49m\u001B[43mfirst_edge\u001B[49m\u001B[43m,\u001B[49m\u001B[43m \u001B[49m\u001B[43mlast_edge\u001B[49m\u001B[43m,\u001B[49m\u001B[43m \u001B[49m\u001B[43mn_equal_bins\u001B[49m\u001B[43m \u001B[49m\u001B[38;5;241;43m+\u001B[39;49m\u001B[43m \u001B[49m\u001B[38;5;241;43m1\u001B[39;49m\u001B[43m,\u001B[49m\n\u001B[0;32m    448\u001B[0m \u001B[43m        \u001B[49m\u001B[43mendpoint\u001B[49m\u001B[38;5;241;43m=\u001B[39;49m\u001B[38;5;28;43;01mTrue\u001B[39;49;00m\u001B[43m,\u001B[49m\u001B[43m \u001B[49m\u001B[43mdtype\u001B[49m\u001B[38;5;241;43m=\u001B[39;49m\u001B[43mbin_type\u001B[49m\u001B[43m)\u001B[49m\n\u001B[0;32m    449\u001B[0m     \u001B[38;5;28;01mreturn\u001B[39;00m bin_edges, (first_edge, last_edge, n_equal_bins)\n\u001B[0;32m    450\u001B[0m \u001B[38;5;28;01melse\u001B[39;00m:\n",
      "File \u001B[1;32m<__array_function__ internals>:200\u001B[0m, in \u001B[0;36mlinspace\u001B[1;34m(*args, **kwargs)\u001B[0m\n",
      "File \u001B[1;32m~\\AppData\\Local\\Programs\\Python\\Python310\\lib\\site-packages\\numpy\\core\\function_base.py:128\u001B[0m, in \u001B[0;36mlinspace\u001B[1;34m(start, stop, num, endpoint, retstep, dtype, axis)\u001B[0m\n\u001B[0;32m    124\u001B[0m div \u001B[38;5;241m=\u001B[39m (num \u001B[38;5;241m-\u001B[39m \u001B[38;5;241m1\u001B[39m) \u001B[38;5;28;01mif\u001B[39;00m endpoint \u001B[38;5;28;01melse\u001B[39;00m num\n\u001B[0;32m    126\u001B[0m \u001B[38;5;66;03m# Convert float/complex array scalars to float, gh-3504\u001B[39;00m\n\u001B[0;32m    127\u001B[0m \u001B[38;5;66;03m# and make sure one can use variables that have an __array_interface__, gh-6634\u001B[39;00m\n\u001B[1;32m--> 128\u001B[0m start \u001B[38;5;241m=\u001B[39m \u001B[43masanyarray\u001B[49m\u001B[43m(\u001B[49m\u001B[43mstart\u001B[49m\u001B[43m)\u001B[49m\u001B[43m \u001B[49m\u001B[38;5;241;43m*\u001B[39;49m\u001B[43m \u001B[49m\u001B[38;5;241;43m1.0\u001B[39;49m\n\u001B[0;32m    129\u001B[0m stop  \u001B[38;5;241m=\u001B[39m asanyarray(stop)  \u001B[38;5;241m*\u001B[39m \u001B[38;5;241m1.0\u001B[39m\n\u001B[0;32m    131\u001B[0m dt \u001B[38;5;241m=\u001B[39m result_type(start, stop, \u001B[38;5;28mfloat\u001B[39m(num))\n",
      "File \u001B[1;32mE:\\flexsensor\\mcpy\\mcpy\\MCSamples.py:92\u001B[0m, in \u001B[0;36mMCSamples.__mul__\u001B[1;34m(self, other)\u001B[0m\n\u001B[0;32m     90\u001B[0m \u001B[38;5;28;01melif\u001B[39;00m \u001B[38;5;28misinstance\u001B[39m(other, ud\u001B[38;5;241m.\u001B[39mUncertainty):\n\u001B[0;32m     91\u001B[0m     result \u001B[38;5;241m=\u001B[39m \u001B[38;5;28msuper\u001B[39m()\u001B[38;5;241m.\u001B[39m\u001B[38;5;21m__mul__\u001B[39m(other\u001B[38;5;241m.\u001B[39mvnom)\n\u001B[1;32m---> 92\u001B[0m \u001B[38;5;28;01mif\u001B[39;00m \u001B[38;5;28misinstance\u001B[39m(\u001B[43mresult\u001B[49m, np\u001B[38;5;241m.\u001B[39mndarray):\n\u001B[0;32m     93\u001B[0m     \u001B[38;5;28;01mreturn\u001B[39;00m MCSamples(result, unit\u001B[38;5;241m=\u001B[39m\u001B[38;5;28mself\u001B[39m\u001B[38;5;241m.\u001B[39munit, definition\u001B[38;5;241m=\u001B[39m\u001B[38;5;28mself\u001B[39m\u001B[38;5;241m.\u001B[39mdefinition, description\u001B[38;5;241m=\u001B[39m\u001B[38;5;28mself\u001B[39m\u001B[38;5;241m.\u001B[39mdescription,\n\u001B[0;32m     94\u001B[0m                      coverage\u001B[38;5;241m=\u001B[39m\u001B[38;5;28mself\u001B[39m\u001B[38;5;241m.\u001B[39mcoverage)\n\u001B[0;32m     95\u001B[0m \u001B[38;5;28;01mreturn\u001B[39;00m result\n",
      "\u001B[1;31mUnboundLocalError\u001B[0m: local variable 'result' referenced before assignment"
     ]
    },
    {
     "data": {
      "text/plain": "<Figure size 640x480 with 1 Axes>",
      "image/png": "[encoded data removed]"
     },
     "metadata": {},
     "output_type": "display_data"
    }
   ],
   "source": [
    "R21_ = 100                       # Ohm\n",
    "delta_a_R21_ = (5e-3 * R21_) / 100    # Ohm\n",
    "R21 = mcpy.Rectangular(R21_, delta_a_R21_)\n",
    "print(R21)\n",
    "R21.plot(N)"
   ],
   "metadata": {
    "collapsed": false,
    "ExecuteTime": {
     "start_time": "2023-05-14T11:43:46.900624Z",
     "end_time": "2023-05-14T11:43:47.165243Z"
    }
   }
  },
  {
   "cell_type": "markdown",
   "source": [
    "### Resistor R22\n",
    "According to the corresponding datasheets VCS301.pdf [4, p. 1] the resistance tolerance is given\n",
    "by +-1%."
   ],
   "metadata": {
    "collapsed": false
   }
  },
  {
   "cell_type": "code",
   "execution_count": null,
   "outputs": [],
   "source": [
    "R22_ = 4e-3                    # Ohm\n",
    "delta_a_R22_ = (1 * R22_) / 100    # Ohm\n",
    "R22 = mcpy.Rectangular(R22_, delta_a_R22_)\n",
    "print(R22)\n",
    "R22.plot(N)"
   ],
   "metadata": {
    "collapsed": false,
    "ExecuteTime": {
     "start_time": "2023-05-14T11:43:47.123525Z",
     "end_time": "2023-05-14T11:43:47.414858Z"
    }
   }
  },
  {
   "cell_type": "code",
   "execution_count": null,
   "outputs": [],
   "source": [
    "R3_ = 10e3                   # Ohm\n",
    "delta_a_R3_ = (5e-3 * R3_) / 100    # Ohm\n",
    "R3 = mcpy.Rectangular(R3_, delta_a_R3_)\n",
    "print(R3)\n",
    "R3.plot(N)"
   ],
   "metadata": {
    "collapsed": false,
    "ExecuteTime": {
     "start_time": "2023-05-14T11:43:47.371572Z",
     "end_time": "2023-05-14T11:43:47.591376Z"
    }
   }
  },
  {
   "cell_type": "code",
   "execution_count": null,
   "outputs": [],
   "source": [
    "R4_ = 10e3\n",
    "delta_R4_ = 0.5\n",
    "R4 = mcpy.Rectangular(R4_, delta_R4_)\n",
    "print(R4)\n",
    "R4.plot(N)"
   ],
   "metadata": {
    "collapsed": false,
    "ExecuteTime": {
     "start_time": "2023-05-14T11:43:47.594378Z",
     "end_time": "2023-05-14T11:43:47.822000Z"
    }
   }
  },
  {
   "cell_type": "markdown",
   "source": [
    "## Uncertainties of the voltage measurements, u(UH) and u(U0)\n",
    "The values of the 25 measurements are saved in the comma-separated-values (CSV)\n",
    "file `VoltageMeasurments.csv`, with **U0** in the first column and **UH** in the second (both in Volts).\n",
    "**U0** has been measured with the multimeter range *100mV* and **UH** with the range of *1V*."
   ],
   "metadata": {
    "collapsed": false
   }
  },
  {
   "cell_type": "code",
   "execution_count": null,
   "outputs": [],
   "source": [
    "import pandas as pd\n",
    "measurements = pd.read_csv(\"VoltageMeasurements.csv\", sep=',', names=['u0', 'uh'])"
   ],
   "metadata": {
    "collapsed": false,
    "ExecuteTime": {
     "start_time": "2023-05-14T11:43:47.808727Z",
     "end_time": "2023-05-14T11:43:47.824863Z"
    }
   }
  },
  {
   "cell_type": "code",
   "execution_count": null,
   "outputs": [],
   "source": [
    "U0_mean = mcpy.DirectObservations(measurements['u0'])\n",
    "print(f\"{U0_mean.vnom:.3E}, sigma: {U0_mean.std:.3E}, ustd: {U0_mean.ustd:.3E}\")\n",
    "U0_mean.plot(N)"
   ],
   "metadata": {
    "collapsed": false,
    "ExecuteTime": {
     "start_time": "2023-05-14T11:43:47.824863Z",
     "end_time": "2023-05-14T11:43:48.171169Z"
    }
   }
  },
  {
   "cell_type": "code",
   "execution_count": null,
   "outputs": [],
   "source": [
    "UH_mean = mcpy.DirectObservations(measurements['uh'])\n",
    "print(f\"{UH_mean.vnom:.3E}, sigma: {UH_mean.std:.3E}, ustd: {UH_mean.ustd:.3E}\")\n",
    "UH_mean.plot(N)"
   ],
   "metadata": {
    "collapsed": false,
    "ExecuteTime": {
     "start_time": "2023-05-14T11:43:48.171169Z",
     "end_time": "2023-05-14T11:43:48.453684Z"
    }
   }
  },
  {
   "cell_type": "markdown",
   "source": [
    "## Standard uncertainty due to the accuracy u(U0;1)\n",
    "u(U0;1) is the standard uncertainty due to the accuracy of the multimeter for the choosen\n",
    "range. The range for U0 has been set to 100mV , the tightes tolerance is given with treading\n",
    "U01 = 40e-3% and has to be applied on the reading as well as trange\n",
    "U01 = 20e-3% for the\n",
    "range."
   ],
   "metadata": {
    "collapsed": false
   }
  },
  {
   "cell_type": "code",
   "execution_count": null,
   "outputs": [],
   "source": [
    "U01_ = 100e-3                  # Ohm\n",
    "delta_a_U01_ = (40e-3 * U0_mean.vnom + 20e-3*U01_) / 100    # Ohm\n",
    "U01 = mcpy.Rectangular(U01_, delta_a_U01_)\n",
    "print(U01)\n",
    "U01.plot(N)"
   ],
   "metadata": {
    "collapsed": false,
    "ExecuteTime": {
     "start_time": "2023-05-14T11:43:48.455684Z",
     "end_time": "2023-05-14T11:43:48.729889Z"
    }
   }
  },
  {
   "cell_type": "markdown",
   "source": [
    "u(U0;2) is the standard uncertainty due to the digitization of the multimeter for the choosen\n",
    "range. The range for U0 has been set to 100mV , the tightes tolerance is given with tResolution\n",
    "U0;2 = 10:00 10􀀀6V . Since the range hast been set to 100mV the bounds aU0;2 has to be calculated\n",
    "by using the range:"
   ],
   "metadata": {
    "collapsed": false
   }
  },
  {
   "cell_type": "code",
   "execution_count": null,
   "outputs": [],
   "source": [
    "U02_ = 100e-3                  # Ohm\n",
    "delta_a_U02_ = (10e-6 /2)    # Ohm\n",
    "print(delta_a_U02_)\n",
    "U02 = mcpy.Rectangular(U02_, delta_a_U02_)\n",
    "print(U02)\n",
    "U02.plot(N)"
   ],
   "metadata": {
    "collapsed": false,
    "ExecuteTime": {
     "start_time": "2023-05-14T11:43:48.707870Z",
     "end_time": "2023-05-14T11:43:48.913271Z"
    }
   }
  },
  {
   "cell_type": "markdown",
   "source": [
    "Standard uncertainty due to the accuracy u(UH;1)\n",
    "u(UH;1) is the standard uncertainty due to the accuracy of the multimeter for the choosen range.\n",
    "The range for UH has been set to 1V , the tightes tolerance is given with treading\n",
    "UH;1\n",
    "= 30:00  10􀀀3%\n",
    "and has to be applied on the reading as well as trange\n",
    "UH;1\n",
    "= 10:00  10􀀀3% for the range.\n",
    "Assuming a rectangluar distribution, a can be be determined by:\n"
   ],
   "metadata": {
    "collapsed": false
   }
  },
  {
   "cell_type": "code",
   "execution_count": null,
   "outputs": [],
   "source": [
    "UH1_ = 1\n",
    "delta_a_UH1_ = (30e-3 * UH_mean.vnom + 10e-3*UH1_) / 100    # Ohm\n",
    "print(delta_a_UH1_)\n",
    "UH1 = mcpy.Rectangular(UH1_, delta_a_UH1_)\n",
    "print(UH1)\n",
    "UH1.plot(N)"
   ],
   "metadata": {
    "collapsed": false,
    "ExecuteTime": {
     "start_time": "2023-05-14T11:43:48.911271Z",
     "end_time": "2023-05-14T11:43:49.110631Z"
    }
   }
  },
  {
   "cell_type": "code",
   "execution_count": null,
   "outputs": [],
   "source": [
    "UH2_ = 100e-3                  # Ohm\n",
    "delta_a_UH2_ = (100e-6 /2)    # Ohm\n",
    "print(delta_a_UH2_)\n",
    "UH2 = mcpy.Rectangular(UH2_, delta_a_UH2_)\n",
    "print(UH2)\n",
    "UH2.plot(N)"
   ],
   "metadata": {
    "collapsed": false,
    "ExecuteTime": {
     "start_time": "2023-05-14T11:43:49.109625Z",
     "end_time": "2023-05-14T11:43:49.375667Z"
    }
   }
  },
  {
   "cell_type": "markdown",
   "source": [
    "## Uncertainty of the Pt100 resistance deviation\n",
    "At the measurement temperature, the tolerance of the Pt100 sensor (the maximum deviation\n",
    "from the standard characteristic line) is given on the calibration certificate as +-6.7m."
   ],
   "metadata": {
    "collapsed": false
   }
  },
  {
   "cell_type": "code",
   "execution_count": null,
   "outputs": [],
   "source": [
    "delta_R1 = mcpy.Rectangular(0, 6.7e-3)\n",
    "print(delta_R1)\n",
    "delta_R1.plot(N)"
   ],
   "metadata": {
    "collapsed": false,
    "ExecuteTime": {
     "start_time": "2023-05-14T11:43:49.376668Z",
     "end_time": "2023-05-14T11:43:49.597460Z"
    }
   }
  },
  {
   "cell_type": "markdown",
   "source": [
    "## Uncertainty of the self heating\n",
    "The self heating has been noted by a colleague as normally distributed with a mean of 6:7103\n",
    "and a relative expanded uncertainty of Ur(s) = 40:00% for a coverage factor of k = 3."
   ],
   "metadata": {
    "collapsed": false
   }
  },
  {
   "cell_type": "code",
   "execution_count": null,
   "outputs": [],
   "source": [
    "uexp = ((40e-3*19e-3)/100)\n",
    "u_delta_theta = mcpy.Normal(6.7e-3, uexp, 3)\n",
    "print(u_delta_theta)\n",
    "u_delta_theta.plot(N)"
   ],
   "metadata": {
    "collapsed": false,
    "ExecuteTime": {
     "start_time": "2023-05-14T11:43:49.595458Z",
     "end_time": "2023-05-14T11:43:49.800552Z"
    }
   }
  },
  {
   "cell_type": "markdown",
   "source": [
    "# Monte Carlo Analysis"
   ],
   "metadata": {
    "collapsed": false
   }
  },
  {
   "cell_type": "code",
   "execution_count": null,
   "outputs": [],
   "source": [
    "RZ = mcpy.Uncertainty(vnom=105e-3)\n",
    "RZ.plot(N)"
   ],
   "metadata": {
    "collapsed": false,
    "ExecuteTime": {
     "start_time": "2023-05-14T11:43:49.801551Z",
     "end_time": "2023-05-14T11:43:49.988714Z"
    }
   }
  },
  {
   "cell_type": "code",
   "execution_count": null,
   "outputs": [],
   "source": [
    "R2 = R21.rand(N) + R22.rand(N)\n",
    "R2.plot(N)"
   ],
   "metadata": {
    "collapsed": false,
    "ExecuteTime": {
     "start_time": "2023-05-14T11:43:49.989722Z",
     "end_time": "2023-05-14T11:43:50.166002Z"
    }
   }
  },
  {
   "cell_type": "code",
   "execution_count": null,
   "outputs": [],
   "source": [
    "R3.plot(N)"
   ],
   "metadata": {
    "collapsed": false,
    "ExecuteTime": {
     "start_time": "2023-05-14T11:43:50.165003Z",
     "end_time": "2023-05-14T11:43:50.372054Z"
    }
   }
  },
  {
   "cell_type": "code",
   "execution_count": null,
   "outputs": [],
   "source": [
    "R4.plot(N)"
   ],
   "metadata": {
    "collapsed": false,
    "ExecuteTime": {
     "start_time": "2023-05-14T11:43:50.368052Z",
     "end_time": "2023-05-14T11:43:50.571052Z"
    }
   }
  },
  {
   "cell_type": "code",
   "execution_count": null,
   "outputs": [],
   "source": [
    "UH = UH_mean.rand(N) - UH1.rand(N) - UH2.rand(N)\n",
    "#UH_mean.plot(N)\n",
    "#UH1.plot(N)\n",
    "#UH2.plot(N)\n",
    "UH.plot(N)"
   ],
   "metadata": {
    "collapsed": false,
    "ExecuteTime": {
     "start_time": "2023-05-14T11:43:50.571052Z",
     "end_time": "2023-05-14T11:43:50.765244Z"
    }
   }
  },
  {
   "cell_type": "code",
   "execution_count": null,
   "outputs": [],
   "source": [
    "U0 = U0_mean.rand(N) - U01.rand(N) - U02.rand(N)\n",
    "#U0_mean.plot(N)\n",
    "#U01.plot(N)\n",
    "#U02.plot(N)\n",
    "U0.plot(N)"
   ],
   "metadata": {
    "collapsed": false,
    "ExecuteTime": {
     "start_time": "2023-05-14T11:43:50.761243Z",
     "end_time": "2023-05-14T11:43:51.010483Z"
    }
   }
  },
  {
   "cell_type": "code",
   "execution_count": null,
   "outputs": [],
   "source": [
    "RL = mcpy.Uncertainty(vnom=42e-3)\n",
    "# R1 = (R2 + RZ.rand(N)) * (( UH.rand(N) * ( R3.rand(N) + RZ.rand(N) ) - U0.rand(N) *\n",
    "#                     ( R3.rand(N) + R4.rand(N) + 2 * RZ.rand(N)) ) /\n",
    "#                   ( U0.rand(N) * ( R3.rand(N) + R4.rand(N) + 2 * RZ.rand(N) )\n",
    "#                     + UH.rand(N) * ( R4.rand(N) + RZ.rand(N) ) )) \\\n",
    "#      - RL.rand(N) - RZ.rand(N) + delta_R1.rand(N)\n",
    "R1 = (R2 + RZ) * (( UH * ( R3 + RZ ) - U0 *\n",
    "                    ( R3 + R4 + 2 * RZ) ) /\n",
    "                  ( U0 * ( R3 + R4 + 2 * RZ )\n",
    "                    + UH * ( R4 + RZ ) )) \\\n",
    "     - RL - RZ + delta_R1\n",
    "R1.plot(N)\n",
    "print(R1)"
   ],
   "metadata": {
    "collapsed": false,
    "ExecuteTime": {
     "start_time": "2023-05-14T11:34:28.436392Z",
     "end_time": "2023-05-14T11:34:28.764518Z"
    }
   }
  }
 ],
 "metadata": {
  "kernelspec": {
   "display_name": "Python 3",
   "language": "python",
   "name": "python3"
  },
  "language_info": {
   "codemirror_mode": {
    "name": "ipython",
    "version": 2
   },
   "file_extension": ".py",
   "mimetype": "text/x-python",
   "name": "python",
   "nbconvert_exporter": "python",
   "pygments_lexer": "ipython2",
   "version": "2.7.6"
  }
 },
 "nbformat": 4,
 "nbformat_minor": 0
}
